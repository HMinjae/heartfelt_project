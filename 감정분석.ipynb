{
 "cells": [
  {
   "cell_type": "code",
   "execution_count": 3,
   "metadata": {},
   "outputs": [
    {
     "name": "stdout",
     "output_type": "stream",
     "text": [
      "오늘은 정말 환상적인 하루였다! 아침부터 햇살이 따스하게 내 방을 비추어 일어나는 순간부터 기분이 업됐다. 아침 식사는 내가 가장 좋아하는 딸기잼을 바른 토스트와 신선한 오렌지 주스였다. 이렇게 사소한 것에서도 행복을 느낄 수 있다니, 삶은 참 아름다운 것 같다.\n",
      "15\n",
      "매우 기분 좋음\n",
      "오늘따라 미소 꽃이 활짝 핀 것 같아! 가득 행복한 하루를 보내고 있나봐. 부럽기도 하고, 고마워 보이기도 해.\n"
     ]
    }
   ],
   "source": [
    "import json\n",
    "import pandas as pd\n",
    "import random\n",
    "import requests\n",
    "\n",
    "response = requests.get('https://github.com/HMinjae/heartfelt_project/raw/main/SentiWord_info.json')\n",
    "\n",
    "#SentiWord_info는 한국어 감성사전을 의미\n",
    "SentiWord_info = json.loads(response.content.decode('utf-8-sig'))\n",
    "\n",
    "sentiword_dic = pd.DataFrame(SentiWord_info)\n",
    "\n",
    "# 문장의 감정 점수를 계산하는 함수\n",
    "def sentiment_score(sentence):\n",
    "    sentiment = 0  # 초기 감정 점수값을 0으로 설정\n",
    "    for i in range(len(sentiword_dic[\"word\"])):  # 감성사전의 모든 단어를 하나씩 선택\n",
    "        if sentiword_dic[\"word\"][i] in sentence:  # 입력 문장에 감성 단어가 있는지 확인\n",
    "            sentiment += int(sentiword_dic[\"polarity\"][i])  # 감성단어가 있다면 감정 점수값 합계를 구함\n",
    "    return sentiment\n",
    "\n",
    "sentence = input(\"문장을 입력하세요: \")\n",
    "\n",
    "# 입력 받은 문장의 감정 점수 계산\n",
    "score = sentiment_score(sentence)\n",
    "\n",
    "print(sentence)\n",
    "\n",
    "print(score)\n",
    "\n",
    "if score >= 10:\n",
    "    print(\"매우 기분 좋음\")\n",
    "elif 5 <= score < 10:\n",
    "    print(\"기분 좋음\")\n",
    "elif 0 <= score < 5:\n",
    "    print(\"보통\")\n",
    "elif -5 <= score < 0:\n",
    "    print(\"기분 안좋음\")\n",
    "else:  # score < -5\n",
    "    print(\"매우 기분 안좋음\")\n",
    "\n",
    "\n",
    "#감정답변\n",
    "df = pd.read_csv('https://github.com/HMinjae/heartfelt_project/raw/main/%EA%B0%90%EC%A0%95%EB%8B%B5%EB%B3%80.csv')  \n",
    "\n",
    "if score >= 10:\n",
    "    print(random.choice(df.iloc[:, 0].dropna().tolist()))\n",
    "elif 5 <= score < 10:\n",
    "    print(random.choice(df.iloc[:, 1].dropna().tolist()))\n",
    "elif 0 <= score < 5:\n",
    "    print(random.choice(df.iloc[:, 2].dropna().tolist()))\n",
    "elif -5 <= score < 0:\n",
    "    print(random.choice(df.iloc[:, 3].dropna().tolist()))\n",
    "else:\n",
    "    print(random.choice(df.iloc[:, 4].dropna().tolist()))"
   ]
  },
  {
   "cell_type": "code",
   "execution_count": 5,
   "metadata": {},
   "outputs": [
    {
     "name": "stdout",
     "output_type": "stream",
     "text": [
      "딘(DEAN) – 21\n"
     ]
    }
   ],
   "source": [
    "#노래추천\n",
    "df = pd.read_csv('https://github.com/HMinjae/heartfelt_project/raw/main/%EB%85%B8%EB%9E%98%EC%B6%94%EC%B2%9C.csv')  \n",
    "if score >= 10:\n",
    "    print(random.choice(df.iloc[:, 0].dropna().tolist()))\n",
    "elif 5 <= score < 10:\n",
    "    print(random.choice(df.iloc[:, 1].dropna().tolist()))\n",
    "elif 0 <= score < 5:\n",
    "    print(random.choice(df.iloc[:, 2].dropna().tolist()))\n",
    "elif -5 <= score < 0:\n",
    "    print(random.choice(df.iloc[:, 3].dropna().tolist()))\n",
    "else:\n",
    "    print(random.choice(df.iloc[:, 4].dropna().tolist()))"
   ]
  },
  {
   "cell_type": "code",
   "execution_count": 6,
   "metadata": {},
   "outputs": [
    {
     "name": "stdout",
     "output_type": "stream",
     "text": [
      "우표 수집\n"
     ]
    }
   ],
   "source": [
    "#행동추천\n",
    "df = pd.read_csv('https://github.com/HMinjae/heartfelt_project/raw/main/%ED%96%89%EB%8F%99%EC%B6%94%EC%B2%9C.csv')  \n",
    "if score >= 0:\n",
    "    print(random.choice(df.iloc[:, 0].dropna().tolist()))\n",
    "else:\n",
    "    print(random.choice(df.iloc[:, 4].dropna().tolist()))"
   ]
  }
 ],
 "metadata": {
  "kernelspec": {
   "display_name": "base",
   "language": "python",
   "name": "python3"
  },
  "language_info": {
   "codemirror_mode": {
    "name": "ipython",
    "version": 3
   },
   "file_extension": ".py",
   "mimetype": "text/x-python",
   "name": "python",
   "nbconvert_exporter": "python",
   "pygments_lexer": "ipython3",
   "version": "3.11.4"
  }
 },
 "nbformat": 4,
 "nbformat_minor": 2
}

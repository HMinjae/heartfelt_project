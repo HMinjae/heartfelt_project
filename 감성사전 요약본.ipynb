{
 "cells": [
  {
   "cell_type": "code",
   "execution_count": null,
   "metadata": {},
   "outputs": [],
   "source": [
    "import json\n",
    "import pandas as pd\n",
    "with open('SentiWord_info.json', encoding='utf-8-sig', mode='r') as f: \n",
    "  SentiWord_info = json.load(f)\n",
    "\n",
    "sentiword_dic = pd.DataFrame(SentiWord_info)\n",
    "\n",
    "# 문장의 감정 점수를 계산하는 함수\n",
    "def sentiment_score(sentence):\n",
    "    sentiment = 0  # 초기 감정 점수값을 0으로 설정\n",
    "    for i in range(len(sentiword_dic[\"word\"])):  # 감성사전의 모든 단어를 하나씩 선택\n",
    "        if sentiword_dic[\"word\"][i] in sentence:  # 입력 문장에 감성 단어가 있는지 확인\n",
    "            sentiment += int(sentiword_dic[\"polarity\"][i])  # 감성단어가 있다면 감정 점수값 합계를 구함\n",
    "    return sentiment\n",
    "\n",
    "# 사용자로부터 문장 입력 받기\n",
    "sentence = input(\"문장을 입력하세요: \")\n",
    "\n",
    "# 입력 받은 문장의 감정 점수 계산\n",
    "score = sentiment_score(sentence)\n",
    "print(score)\n",
    "\n",
    "if score >= 10:\n",
    "    print(\"매우 기분 좋음\")\n",
    "elif 5 <= score < 10:\n",
    "    print(\"기분 좋음\")\n",
    "elif 0 <= score < 5:\n",
    "    print(\"보통\")\n",
    "elif -5 <= score < 0:\n",
    "    print(\"기분 안좋음\")\n",
    "else:  # score < -5\n",
    "    print(\"매우 기분 안좋음\")\n",
    "\n",
    "import pandas as pd\n",
    "import random\n",
    "\n",
    "#감정답변\n",
    "df = pd.read_csv('https://github.com/HMinjae/heartfelt_project/raw/main/%EA%B0%90%EC%A0%95%EB%8B%B5%EB%B3%80.csv')  \n",
    "\n",
    "if score >= 10:\n",
    "    print(random.choice(df.iloc[:, 0].dropna().tolist()))\n",
    "elif 5 <= score < 10:\n",
    "    print(random.choice(df.iloc[:, 1].dropna().tolist()))\n",
    "elif 0 <= score < 5:\n",
    "    print(random.choice(df.iloc[:, 2].dropna().tolist()))\n",
    "elif -5 <= score < 0:\n",
    "    print(random.choice(df.iloc[:, 3].dropna().tolist()))\n",
    "else:\n",
    "    print(random.choice(df.iloc[:, 4].dropna().tolist()))"
   ]
  },
  {
   "cell_type": "code",
   "execution_count": null,
   "metadata": {},
   "outputs": [],
   "source": [
    "#노래추천\n",
    "df = pd.read_csv('노래추천.csv')  \n",
    "if score >= 10:\n",
    "    print(random.choice(df.iloc[:, 0].dropna().tolist()))\n",
    "elif 5 <= score < 10:\n",
    "    print(random.choice(df.iloc[:, 1].dropna().tolist()))\n",
    "elif 0 <= score < 5:\n",
    "    print(random.choice(df.iloc[:, 2].dropna().tolist()))\n",
    "elif -5 <= score < 0:\n",
    "    print(random.choice(df.iloc[:, 3].dropna().tolist()))\n",
    "else:\n",
    "    print(random.choice(df.iloc[:, 4].dropna().tolist()))"
   ]
  },
  {
   "cell_type": "code",
   "execution_count": null,
   "metadata": {},
   "outputs": [],
   "source": [
    "#행동추천\n",
    "df = pd.read_csv('행동추천.csv')  \n",
    "if score >= 0:\n",
    "    print(random.choice(df.iloc[:, 0].dropna().tolist()))\n",
    "else:\n",
    "    print(random.choice(df.iloc[:, 4].dropna().tolist()))"
   ]
  }
 ],
 "metadata": {
  "kernelspec": {
   "display_name": "base",
   "language": "python",
   "name": "python3"
  },
  "language_info": {
   "name": "python",
   "version": "3.11.4"
  }
 },
 "nbformat": 4,
 "nbformat_minor": 2
}
